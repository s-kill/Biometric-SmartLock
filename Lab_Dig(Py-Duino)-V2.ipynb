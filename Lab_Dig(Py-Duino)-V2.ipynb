{
 "cells": [
  {
   "cell_type": "markdown",
   "metadata": {},
   "source": [
    "Import de librerias a utilizar."
   ]
  },
  {
   "cell_type": "code",
   "execution_count": 1,
   "metadata": {},
   "outputs": [],
   "source": [
    "import cv2\n",
    "import numpy as np\n",
    "import os\n",
    "import argparse\n",
    "import face_recognition\n",
    "import time\n",
    "import serial\n",
    "import glob\n",
    "from PIL import Image"
   ]
  },
  {
   "cell_type": "markdown",
   "metadata": {},
   "source": [
    "Carga de base de datos, recorre la carpeta 'db'"
   ]
  },
  {
   "cell_type": "code",
   "execution_count": 2,
   "metadata": {},
   "outputs": [],
   "source": [
    "def reset_db():\n",
    "    #cargar imagen de base de datos\n",
    "    known_faces = []\n",
    "    known_names = []\n",
    "    root_db=glob.glob('db/*.jpeg')\n",
    "    for filename in root_db: \n",
    "        user_id=(filename.split('\\\\'))[-1].split('.')[0] #'db\\\\id.jpeg' --> 'id'\n",
    "        image=face_recognition.load_image_file(filename)\n",
    "        image_encodings = face_recognition.face_encodings(image)[0]\n",
    "        known_faces.append(image_encodings)\n",
    "        known_names.append(user_id)\n",
    "    return known_faces, known_names"
   ]
  },
  {
   "cell_type": "markdown",
   "metadata": {},
   "source": [
    "Función para crear base de datos al presionar el botor rojo (arduino)."
   ]
  },
  {
   "cell_type": "code",
   "execution_count": 17,
   "metadata": {},
   "outputs": [],
   "source": [
    "def DataBase(user_id): #Para probar con camara ip reemplazar def DataBase(user_id,cap):\n",
    "    \n",
    "    #captura de video\n",
    "    url = \"http://192.168.31.16:8080/video\"\n",
    "    cap = cv2.VideoCapture(url)    \n",
    "    ret, frame = cap.read() #Linea para probar con camara ip  \n",
    "    frame = frame[:, :, ::-1]\n",
    "    \n",
    "    \n",
    "    #cv2.imshow('frame',frame)\n",
    "    #cv2.waitKey()\n",
    "    #frame = face_recognition.load_image_file(\"juliancontreras.jpg\")\n",
    "\n",
    "    face_locations = face_recognition.face_locations(frame, model=\"cnn\")\n",
    "    print(\"n de caras: \",len(face_locations))\n",
    "    if len(face_locations) == 1:\n",
    "        top, right, bottom, left = face_locations[0]\n",
    "        face_image = frame[top:bottom, left:right]\n",
    "        pil_image = Image.fromarray(face_image)\n",
    "        cv2.imshow('frame',face_image)\n",
    "        cv2.waitKey()\n",
    "        pil_image.save(\"db/\"+user_id+\".jpeg\")\n",
    "        return True\n",
    "        #pil_image.show()\n",
    "    else:        \n",
    "        print(\"To many faces or Faces not detected\")\n",
    "        return False"
   ]
  },
  {
   "cell_type": "markdown",
   "metadata": {},
   "source": [
    "Detección y Reconocimiento facial, se activa con presionar un boton (arduino)."
   ]
  },
  {
   "cell_type": "code",
   "execution_count": 4,
   "metadata": {},
   "outputs": [],
   "source": [
    "def FaceDetect(): #Para probar con camara ip reemplazar def FaceDetect(cap):\n",
    "    start_time = time.time()\n",
    "    count=0\n",
    "    frames=10 #Numero de fotos necesarias para la detección\n",
    "    for i in range(frames): \n",
    "        #leer imagen desde camara ip\n",
    "        url = \"http://192.168.31.16:8080/video\"\n",
    "        cap = cv2.VideoCapture(url) \n",
    "        ret, frame = cap.read() #Linea para probar con camara ip        \n",
    "        #frame=cv2.imread(\"check.jpeg\") #Linea para probar sin camara ip\n",
    "\n",
    "        #resize imagen, apurar procesamiento\n",
    "        small_frame = cv2.resize(frame, (0, 0), fx=0.25, fy=0.25)\n",
    "\n",
    "        #conversión BGR to RGB\n",
    "        rgb_small_frame = small_frame[:, :, ::-1]\n",
    "\n",
    "        #inicializacion nombres\n",
    "        names = []\n",
    "\n",
    "        #solo procesar si esta activo el video\n",
    "\n",
    "        #procesar imagen, buscando caras\n",
    "        face_locations = face_recognition.face_locations(rgb_small_frame, model=\"cnn\")\n",
    "        face_encodings = face_recognition.face_encodings(rgb_small_frame, face_locations)\n",
    "\n",
    "        #comparar caras\n",
    "        match = face_recognition.compare_faces(np.array(known_faces), face_encodings[0], tolerance=0.6)\n",
    "        name = \"Unknown\"\n",
    "        if True in match: #Se detectó una cara\n",
    "            count+=1\n",
    "            for i in range(len(match)):\n",
    "                #buscar similitud\n",
    "                if match[i]:\n",
    "                    name = known_names[i]\n",
    "                    break\n",
    "                    \n",
    "        names.append(name) #Lista donde se guardan los nombres detectados\n",
    "        \n",
    "    count_names=[[x,names.count(x)] for x in set(names)] #cuenta los nombres detectados\n",
    "    if count > 7 and len(count_names)==1: #Si en 7 de las 10 imagenes detecta la misma cara, se envia comando a arduino\n",
    "        print(\"Elapsed Time: {}\".format(time.time() - start_time))\n",
    "        print(\"Acc: \",count*100/10, \"%\")\n",
    "        return True\n",
    "    \n",
    "    return False"
   ]
  },
  {
   "cell_type": "markdown",
   "metadata": {},
   "source": [
    "Inicializacion Base de Datos"
   ]
  },
  {
   "cell_type": "code",
   "execution_count": 18,
   "metadata": {},
   "outputs": [],
   "source": [
    "known_faces, known_names = reset_db()"
   ]
  },
  {
   "cell_type": "markdown",
   "metadata": {},
   "source": [
    "Inicializacion de camara IP, se debe abrir la aplicacion y reemplazar la URL a la correspondiente."
   ]
  },
  {
   "cell_type": "code",
   "execution_count": 16,
   "metadata": {},
   "outputs": [],
   "source": [
    "#captura de video\n",
    "url = \"http://192.168.31.16:8080/video\"\n",
    "cap = cv2.VideoCapture(url)"
   ]
  },
  {
   "cell_type": "markdown",
   "metadata": {},
   "source": [
    "Inicialización Conexión arduino."
   ]
  },
  {
   "cell_type": "code",
   "execution_count": 19,
   "metadata": {},
   "outputs": [],
   "source": [
    "arduino = serial.Serial(\"COM3\", baudrate=9600, timeout=1.0)"
   ]
  },
  {
   "cell_type": "code",
   "execution_count": 14,
   "metadata": {},
   "outputs": [],
   "source": [
    "arduino.close()"
   ]
  },
  {
   "cell_type": "markdown",
   "metadata": {},
   "source": [
    "Codigo Main (run)"
   ]
  },
  {
   "cell_type": "code",
   "execution_count": 20,
   "metadata": {},
   "outputs": [
    {
     "name": "stdout",
     "output_type": "stream",
     "text": [
      "Press a Button, red for save, green for detect.\n",
      "Red Button,  5 s\n",
      "n de caras:  1\n",
      "Face Saved as user  3\n",
      "Press Again...\n",
      "Red Button,  4 s\n",
      "n de caras:  1\n",
      "Face Saved as user  4\n",
      "Press Again...\n",
      "Green Button,  0 s\n"
     ]
    },
    {
     "ename": "NameError",
     "evalue": "name 'cap' is not defined",
     "output_type": "error",
     "traceback": [
      "\u001b[1;31m---------------------------------------------------------------------------\u001b[0m",
      "\u001b[1;31mNameError\u001b[0m                                 Traceback (most recent call last)",
      "\u001b[1;32m<ipython-input-20-ba6faf5b6395>\u001b[0m in \u001b[0;36m<module>\u001b[1;34m\u001b[0m\n\u001b[0;32m     26\u001b[0m     \u001b[1;32melif\u001b[0m \u001b[1;33m(\u001b[0m\u001b[0mstring\u001b[0m\u001b[1;33m==\u001b[0m\u001b[1;34m'GreenButton'\u001b[0m\u001b[1;33m)\u001b[0m\u001b[1;33m:\u001b[0m \u001b[1;31m#Detect\u001b[0m\u001b[1;33m\u001b[0m\u001b[1;33m\u001b[0m\u001b[0m\n\u001b[0;32m     27\u001b[0m         \u001b[0mprint\u001b[0m\u001b[1;33m(\u001b[0m\u001b[1;34m\"Green Button, \"\u001b[0m\u001b[1;33m,\u001b[0m\u001b[0mround\u001b[0m\u001b[1;33m(\u001b[0m\u001b[0mend\u001b[0m\u001b[1;33m-\u001b[0m\u001b[0mstart\u001b[0m\u001b[1;33m)\u001b[0m\u001b[1;33m,\u001b[0m \u001b[1;34m\"s\"\u001b[0m\u001b[1;33m)\u001b[0m\u001b[1;33m\u001b[0m\u001b[1;33m\u001b[0m\u001b[0m\n\u001b[1;32m---> 28\u001b[1;33m         \u001b[0mdetect\u001b[0m\u001b[1;33m=\u001b[0m\u001b[0mFaceDetect\u001b[0m\u001b[1;33m(\u001b[0m\u001b[1;33m)\u001b[0m \u001b[1;31m#Funcion de detectar la cara\u001b[0m\u001b[1;33m\u001b[0m\u001b[1;33m\u001b[0m\u001b[0m\n\u001b[0m\u001b[0;32m     29\u001b[0m         \u001b[1;31m#detect=FaceDetect(cap) ##Para uso de camara ip quitar comentario\u001b[0m\u001b[1;33m\u001b[0m\u001b[1;33m\u001b[0m\u001b[1;33m\u001b[0m\u001b[0m\n\u001b[0;32m     30\u001b[0m         \u001b[1;32mif\u001b[0m \u001b[0mdetect\u001b[0m\u001b[1;33m:\u001b[0m\u001b[1;33m\u001b[0m\u001b[1;33m\u001b[0m\u001b[0m\n",
      "\u001b[1;32m<ipython-input-4-4ea7701d4ed6>\u001b[0m in \u001b[0;36mFaceDetect\u001b[1;34m()\u001b[0m\n\u001b[0;32m      5\u001b[0m     \u001b[1;32mfor\u001b[0m \u001b[0mi\u001b[0m \u001b[1;32min\u001b[0m \u001b[0mrange\u001b[0m\u001b[1;33m(\u001b[0m\u001b[0mframes\u001b[0m\u001b[1;33m)\u001b[0m\u001b[1;33m:\u001b[0m\u001b[1;33m\u001b[0m\u001b[1;33m\u001b[0m\u001b[0m\n\u001b[0;32m      6\u001b[0m         \u001b[1;31m#leer imagen desde camara ip\u001b[0m\u001b[1;33m\u001b[0m\u001b[1;33m\u001b[0m\u001b[1;33m\u001b[0m\u001b[0m\n\u001b[1;32m----> 7\u001b[1;33m         \u001b[0mret\u001b[0m\u001b[1;33m,\u001b[0m \u001b[0mframe\u001b[0m \u001b[1;33m=\u001b[0m \u001b[0mcap\u001b[0m\u001b[1;33m.\u001b[0m\u001b[0mread\u001b[0m\u001b[1;33m(\u001b[0m\u001b[1;33m)\u001b[0m \u001b[1;31m#Linea para probar con camara ip\u001b[0m\u001b[1;33m\u001b[0m\u001b[1;33m\u001b[0m\u001b[0m\n\u001b[0m\u001b[0;32m      8\u001b[0m         \u001b[1;31m#frame=cv2.imread(\"check.jpeg\") #Linea para probar sin camara ip\u001b[0m\u001b[1;33m\u001b[0m\u001b[1;33m\u001b[0m\u001b[1;33m\u001b[0m\u001b[0m\n\u001b[0;32m      9\u001b[0m \u001b[1;33m\u001b[0m\u001b[0m\n",
      "\u001b[1;31mNameError\u001b[0m: name 'cap' is not defined"
     ]
    }
   ],
   "source": [
    "start=time.time()\n",
    "print(\"Press a Button, red for save, green for detect.\")\n",
    "while arduino:    \n",
    "    rawString = arduino.readline() #Se lee linea de arduino\n",
    "    string_n=rawString.decode()    #bin -> dec\n",
    "    string = string_n.rstrip()     #eliminación de \\n y \\r\n",
    "    end=time.time()\n",
    "    \n",
    "    ##RELLENAR PARTE DE SAVE \n",
    "    if (string==\"RedButton\"): #Save\n",
    "        print(\"Red Button, \",round(end-start), \"s\")\n",
    "        user_id=int(known_names[-1])+1 #Se le suma 1 al ultimo usuario registrado\n",
    "        is_face=DataBase(str(user_id))              #Captura y guarda una imagen a la base de datos        \n",
    "        if is_face:\n",
    "            known_faces, known_names = reset_db() \n",
    "            arduino.write(b'1')            #Avisa a arduino que se guardo la imagen\n",
    "            print(\"Face Saved as user \",user_id)\n",
    "        else:\n",
    "            arduino.write(b'0')            #Avisa a arduino que no hay o hay muchas caras \n",
    "\n",
    "        time.sleep(1.2)\n",
    "        print(\"Press Again...\")  \n",
    "        \n",
    "        start=time.time()\n",
    "        \n",
    "    elif (string=='GreenButton'): #Detect\n",
    "        print(\"Green Button, \",round(end-start), \"s\")\n",
    "        detect=FaceDetect() #Funcion de detectar la cara \n",
    "        #detect=FaceDetect(cap) ##Para uso de camara ip quitar comentario\n",
    "        if detect:\n",
    "            arduino.write(b'1') #Escribe un 1 binario en la Serial de arduino\n",
    "            \n",
    "        else:\n",
    "            arduino.write(b'0') #Escribe un 0 binario en la Serial de arduino\n",
    "            \n",
    "        time.sleep(1.2)\n",
    "        print(\"Press Again...\")\n",
    "        start=time.time()\n",
    "    \n",
    "    elif ((end-start)>=10):\n",
    "        break\n",
    "print(\"Time out: \",round(end-start), \"s\")\n",
    "arduino.close()"
   ]
  }
 ],
 "metadata": {
  "kernelspec": {
   "display_name": "Python 3",
   "language": "python",
   "name": "python3"
  },
  "language_info": {
   "codemirror_mode": {
    "name": "ipython",
    "version": 3
   },
   "file_extension": ".py",
   "mimetype": "text/x-python",
   "name": "python",
   "nbconvert_exporter": "python",
   "pygments_lexer": "ipython3",
   "version": "3.7.9"
  }
 },
 "nbformat": 4,
 "nbformat_minor": 4
}
