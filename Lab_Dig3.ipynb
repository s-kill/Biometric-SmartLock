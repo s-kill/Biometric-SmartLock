{
 "cells": [
  {
   "cell_type": "code",
   "execution_count": 1,
   "metadata": {},
   "outputs": [],
   "source": [
    "import cv2\n",
    "import numpy as np\n",
    "import os\n",
    "import argparse\n",
    "import face_recognition\n",
    "import time"
   ]
  },
  {
   "cell_type": "code",
   "execution_count": 2,
   "metadata": {},
   "outputs": [],
   "source": [
    "#cargar imagen de base de datos\n",
    "image_julian = face_recognition.load_image_file(\"juliancontreras.jpg\")\n",
    "image_matias = face_recognition.load_image_file(\"matiascornejo.jpg\")\n",
    "julian_encodings = face_recognition.face_encodings(image_julian)[0]\n",
    "matias_encodings = face_recognition.face_encodings(image_matias)[0]"
   ]
  },
  {
   "cell_type": "code",
   "execution_count": 3,
   "metadata": {},
   "outputs": [],
   "source": [
    "#caras y nombres conocidos, en orden\n",
    "known_faces = [julian_encodings, matias_encodings]\n",
    "known_names = [\"Julian Contreras\", \"Matias Cornejo\"]"
   ]
  },
  {
   "cell_type": "code",
   "execution_count": 4,
   "metadata": {},
   "outputs": [],
   "source": [
    "#inicialización de variables\n",
    "face_locations = []\n",
    "face_encodings = []\n",
    "face_names = []\n",
    "font = cv2.FONT_HERSHEY_DUPLEX\n",
    "process_this_image = True\n",
    "counter = 0"
   ]
  },
  {
   "cell_type": "code",
   "execution_count": 5,
   "metadata": {},
   "outputs": [],
   "source": [
    "#captura de video\n",
    "url = \"http://192.168.31.15:8080/video\"\n",
    "cap = cv2.VideoCapture(url)"
   ]
  },
  {
   "cell_type": "code",
   "execution_count": 7,
   "metadata": {},
   "outputs": [
    {
     "name": "stdout",
     "output_type": "stream",
     "text": [
      "Elapsed Time: 13.939326763153076\n",
      "Approx. FPS: 59.32854678362763\n"
     ]
    }
   ],
   "source": [
    "start_time = time.time()\n",
    "while True:\n",
    "\n",
    "    #leer imagen\n",
    "    ret, frame = cap.read()\n",
    "    \n",
    "    #resize imagen, apurar procesamiento\n",
    "    small_frame = cv2.resize(frame, (0, 0), fx=0.25, fy=0.25)\n",
    "\n",
    "    #conversión BGR to RGB\n",
    "    rgb_small_frame = small_frame[:, :, ::-1]\n",
    "\n",
    "    #inicializacion nombres\n",
    "    face_names = []\n",
    "\n",
    "    #solo procesar si esta activo el video\n",
    "\n",
    "    #procesar imagen, buscando caras\n",
    "    face_locations = face_recognition.face_locations(rgb_small_frame, model=\"cnn\")\n",
    "    face_encodings = face_recognition.face_encodings(rgb_small_frame, face_locations)\n",
    "\n",
    "    for face_encoding in face_encodings:\n",
    "\n",
    "        #comparar caras\n",
    "        match = face_recognition.compare_faces(np.array(known_faces), face_encoding, tolerance=0.35)\n",
    "        name = \"Unknown\"\n",
    "\n",
    "        for i in range(len(match)):\n",
    "\n",
    "            #buscar similitud\n",
    "            if match[i]:\n",
    "                name = known_names[i]\n",
    "                break\n",
    "\n",
    "        face_names.append(name)\n",
    "        \n",
    "\n",
    "    #mostrar resultados\n",
    "    for (top, right, bottom, left), name in zip(face_locations, face_names):\n",
    "        #resize imagen, para mostrar resultados correctamente\n",
    "        top *= 4\n",
    "        right *= 4\n",
    "        bottom *= 4\n",
    "        left *= 4\n",
    "        \n",
    "        #dibujar rectangulo resultados  \n",
    "        cv2.rectangle(frame, (left, top), (right, bottom), (0,0,255), 2)\n",
    "        \n",
    "        #dibujar nombre\n",
    "        cv2.rectangle(frame, (left, bottom - 35), (right, bottom), (0,0,255), cv2.FILLED)\n",
    "        cv2.putText(frame, name, (left + 6, bottom - 6), font, 1.0, (255,255,255), 1)\n",
    "\n",
    "    counter += 1\n",
    "    #mostrar imagen\n",
    "    cv2.imshow(\"Video\", frame)\n",
    "\n",
    "    #apretar \"q\" para salir\n",
    "    if cv2.waitKey(1) & 0xFF == ord(\"q\"):\n",
    "        break\n",
    "\n",
    "#datos bacan \n",
    "print(\"Elapsed Time: {}\".format(time.time() - start_time))\n",
    "print(\"Approx. FPS: {}\".format(counter/(time.time() - start_time)))\n",
    "\n",
    "# Cleaning up\n",
    "cv2.destroyAllWindows()"
   ]
  }
 ],
 "metadata": {
  "kernelspec": {
   "display_name": "Python 3",
   "language": "python",
   "name": "python3"
  },
  "language_info": {
   "codemirror_mode": {
    "name": "ipython",
    "version": 3
   },
   "file_extension": ".py",
   "mimetype": "text/x-python",
   "name": "python",
   "nbconvert_exporter": "python",
   "pygments_lexer": "ipython3",
   "version": "3.7.9"
  }
 },
 "nbformat": 4,
 "nbformat_minor": 4
}
